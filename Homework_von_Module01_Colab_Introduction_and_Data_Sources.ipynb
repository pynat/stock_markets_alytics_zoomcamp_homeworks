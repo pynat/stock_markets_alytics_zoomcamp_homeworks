{
  "nbformat": 4,
  "nbformat_minor": 0,
  "metadata": {
    "colab": {
      "provenance": []
    },
    "kernelspec": {
      "name": "python3",
      "display_name": "Python 3"
    },
    "language_info": {
      "name": "python"
    }
  },
  "cells": [
    {
      "cell_type": "code",
      "source": [
        "# install main library YFinance\n",
        "!pip install yfinance"
      ],
      "metadata": {
        "colab": {
          "base_uri": "https://localhost:8080/"
        },
        "id": "7_BfcEi2ZQwz",
        "outputId": "285c9ca4-fb94-43ff-9e3d-8358d34ee1f1"
      },
      "execution_count": null,
      "outputs": [
        {
          "output_type": "stream",
          "name": "stdout",
          "text": [
            "Requirement already satisfied: yfinance in /usr/local/lib/python3.10/dist-packages (0.2.38)\n",
            "Requirement already satisfied: pandas>=1.3.0 in /usr/local/lib/python3.10/dist-packages (from yfinance) (2.0.3)\n",
            "Requirement already satisfied: numpy>=1.16.5 in /usr/local/lib/python3.10/dist-packages (from yfinance) (1.25.2)\n",
            "Requirement already satisfied: requests>=2.31 in /usr/local/lib/python3.10/dist-packages (from yfinance) (2.31.0)\n",
            "Requirement already satisfied: multitasking>=0.0.7 in /usr/local/lib/python3.10/dist-packages (from yfinance) (0.0.11)\n",
            "Requirement already satisfied: lxml>=4.9.1 in /usr/local/lib/python3.10/dist-packages (from yfinance) (4.9.4)\n",
            "Requirement already satisfied: appdirs>=1.4.4 in /usr/local/lib/python3.10/dist-packages (from yfinance) (1.4.4)\n",
            "Requirement already satisfied: pytz>=2022.5 in /usr/local/lib/python3.10/dist-packages (from yfinance) (2023.4)\n",
            "Requirement already satisfied: frozendict>=2.3.4 in /usr/local/lib/python3.10/dist-packages (from yfinance) (2.4.2)\n",
            "Requirement already satisfied: peewee>=3.16.2 in /usr/local/lib/python3.10/dist-packages (from yfinance) (3.17.3)\n",
            "Requirement already satisfied: beautifulsoup4>=4.11.1 in /usr/local/lib/python3.10/dist-packages (from yfinance) (4.12.3)\n",
            "Requirement already satisfied: html5lib>=1.1 in /usr/local/lib/python3.10/dist-packages (from yfinance) (1.1)\n",
            "Requirement already satisfied: soupsieve>1.2 in /usr/local/lib/python3.10/dist-packages (from beautifulsoup4>=4.11.1->yfinance) (2.5)\n",
            "Requirement already satisfied: six>=1.9 in /usr/local/lib/python3.10/dist-packages (from html5lib>=1.1->yfinance) (1.16.0)\n",
            "Requirement already satisfied: webencodings in /usr/local/lib/python3.10/dist-packages (from html5lib>=1.1->yfinance) (0.5.1)\n",
            "Requirement already satisfied: python-dateutil>=2.8.2 in /usr/local/lib/python3.10/dist-packages (from pandas>=1.3.0->yfinance) (2.8.2)\n",
            "Requirement already satisfied: tzdata>=2022.1 in /usr/local/lib/python3.10/dist-packages (from pandas>=1.3.0->yfinance) (2024.1)\n",
            "Requirement already satisfied: charset-normalizer<4,>=2 in /usr/local/lib/python3.10/dist-packages (from requests>=2.31->yfinance) (3.3.2)\n",
            "Requirement already satisfied: idna<4,>=2.5 in /usr/local/lib/python3.10/dist-packages (from requests>=2.31->yfinance) (3.7)\n",
            "Requirement already satisfied: urllib3<3,>=1.21.1 in /usr/local/lib/python3.10/dist-packages (from requests>=2.31->yfinance) (2.0.7)\n",
            "Requirement already satisfied: certifi>=2017.4.17 in /usr/local/lib/python3.10/dist-packages (from requests>=2.31->yfinance) (2024.2.2)\n"
          ]
        }
      ]
    },
    {
      "cell_type": "code",
      "source": [
        "# IMPORTS\n",
        "import numpy as np\n",
        "import pandas as pd\n",
        "\n",
        "#Fin Data Sources\n",
        "import yfinance as yf\n",
        "import pandas_datareader as pdr\n",
        "\n",
        "#Data viz\n",
        "import plotly.graph_objs as go\n",
        "import plotly.express as px\n",
        "\n",
        "import matplotlib.pyplot as plt\n",
        "import matplotlib.ticker as mtick\n",
        "\n",
        "import time\n",
        "from datetime import date\n"
      ],
      "metadata": {
        "id": "upIkgS85ZLbF"
      },
      "execution_count": 2,
      "outputs": []
    },
    {
      "cell_type": "code",
      "source": [
        "end = date.today()\n",
        "print(f'Year = {end.year}; month= {end.month}; day={end.day}')\n",
        "\n",
        "start = date(year=end.year-70, month=end.month, day=end.day)\n",
        "print(f'Period for indexes: {start} to {end} ')"
      ],
      "metadata": {
        "colab": {
          "base_uri": "https://localhost:8080/"
        },
        "id": "YneZ9fqHsjU9",
        "outputId": "0121d91c-dad1-4ce7-baaa-123070b45d77"
      },
      "execution_count": 33,
      "outputs": [
        {
          "output_type": "stream",
          "name": "stdout",
          "text": [
            "Year = 2024; month= 4; day=20\n",
            "Period for indexes: 1954-04-20 to 2024-04-20 \n"
          ]
        }
      ]
    },
    {
      "cell_type": "markdown",
      "source": [
        "## 1. GDPC1\n"
      ],
      "metadata": {
        "id": "ZR5V_n3EsXTu"
      }
    },
    {
      "cell_type": "code",
      "source": [
        "# Real Potential Gross Domestic Product (GDPC1), QUARTERLY\n",
        "# https://fred.stlouisfed.org/series/GDPC1\n",
        "gdpc1 = pdr.DataReader(\"GDPC1\", \"fred\", start=start)\n",
        "gdpc1.tail()"
      ],
      "metadata": {
        "id": "Ij7FDH9usZ0E",
        "colab": {
          "base_uri": "https://localhost:8080/",
          "height": 238
        },
        "outputId": "407871fa-8f36-4bdd-a33a-f179b485f38f"
      },
      "execution_count": 44,
      "outputs": [
        {
          "output_type": "execute_result",
          "data": {
            "text/plain": [
              "                GDPC1\n",
              "DATE                 \n",
              "2022-10-01  21989.981\n",
              "2023-01-01  22112.329\n",
              "2023-04-01  22225.350\n",
              "2023-07-01  22490.692\n",
              "2023-10-01  22679.255"
            ],
            "text/html": [
              "\n",
              "  <div id=\"df-038b791a-ded9-49ce-ae54-4e5191d22180\" class=\"colab-df-container\">\n",
              "    <div>\n",
              "<style scoped>\n",
              "    .dataframe tbody tr th:only-of-type {\n",
              "        vertical-align: middle;\n",
              "    }\n",
              "\n",
              "    .dataframe tbody tr th {\n",
              "        vertical-align: top;\n",
              "    }\n",
              "\n",
              "    .dataframe thead th {\n",
              "        text-align: right;\n",
              "    }\n",
              "</style>\n",
              "<table border=\"1\" class=\"dataframe\">\n",
              "  <thead>\n",
              "    <tr style=\"text-align: right;\">\n",
              "      <th></th>\n",
              "      <th>GDPC1</th>\n",
              "    </tr>\n",
              "    <tr>\n",
              "      <th>DATE</th>\n",
              "      <th></th>\n",
              "    </tr>\n",
              "  </thead>\n",
              "  <tbody>\n",
              "    <tr>\n",
              "      <th>2022-10-01</th>\n",
              "      <td>21989.981</td>\n",
              "    </tr>\n",
              "    <tr>\n",
              "      <th>2023-01-01</th>\n",
              "      <td>22112.329</td>\n",
              "    </tr>\n",
              "    <tr>\n",
              "      <th>2023-04-01</th>\n",
              "      <td>22225.350</td>\n",
              "    </tr>\n",
              "    <tr>\n",
              "      <th>2023-07-01</th>\n",
              "      <td>22490.692</td>\n",
              "    </tr>\n",
              "    <tr>\n",
              "      <th>2023-10-01</th>\n",
              "      <td>22679.255</td>\n",
              "    </tr>\n",
              "  </tbody>\n",
              "</table>\n",
              "</div>\n",
              "    <div class=\"colab-df-buttons\">\n",
              "\n",
              "  <div class=\"colab-df-container\">\n",
              "    <button class=\"colab-df-convert\" onclick=\"convertToInteractive('df-038b791a-ded9-49ce-ae54-4e5191d22180')\"\n",
              "            title=\"Convert this dataframe to an interactive table.\"\n",
              "            style=\"display:none;\">\n",
              "\n",
              "  <svg xmlns=\"http://www.w3.org/2000/svg\" height=\"24px\" viewBox=\"0 -960 960 960\">\n",
              "    <path d=\"M120-120v-720h720v720H120Zm60-500h600v-160H180v160Zm220 220h160v-160H400v160Zm0 220h160v-160H400v160ZM180-400h160v-160H180v160Zm440 0h160v-160H620v160ZM180-180h160v-160H180v160Zm440 0h160v-160H620v160Z\"/>\n",
              "  </svg>\n",
              "    </button>\n",
              "\n",
              "  <style>\n",
              "    .colab-df-container {\n",
              "      display:flex;\n",
              "      gap: 12px;\n",
              "    }\n",
              "\n",
              "    .colab-df-convert {\n",
              "      background-color: #E8F0FE;\n",
              "      border: none;\n",
              "      border-radius: 50%;\n",
              "      cursor: pointer;\n",
              "      display: none;\n",
              "      fill: #1967D2;\n",
              "      height: 32px;\n",
              "      padding: 0 0 0 0;\n",
              "      width: 32px;\n",
              "    }\n",
              "\n",
              "    .colab-df-convert:hover {\n",
              "      background-color: #E2EBFA;\n",
              "      box-shadow: 0px 1px 2px rgba(60, 64, 67, 0.3), 0px 1px 3px 1px rgba(60, 64, 67, 0.15);\n",
              "      fill: #174EA6;\n",
              "    }\n",
              "\n",
              "    .colab-df-buttons div {\n",
              "      margin-bottom: 4px;\n",
              "    }\n",
              "\n",
              "    [theme=dark] .colab-df-convert {\n",
              "      background-color: #3B4455;\n",
              "      fill: #D2E3FC;\n",
              "    }\n",
              "\n",
              "    [theme=dark] .colab-df-convert:hover {\n",
              "      background-color: #434B5C;\n",
              "      box-shadow: 0px 1px 3px 1px rgba(0, 0, 0, 0.15);\n",
              "      filter: drop-shadow(0px 1px 2px rgba(0, 0, 0, 0.3));\n",
              "      fill: #FFFFFF;\n",
              "    }\n",
              "  </style>\n",
              "\n",
              "    <script>\n",
              "      const buttonEl =\n",
              "        document.querySelector('#df-038b791a-ded9-49ce-ae54-4e5191d22180 button.colab-df-convert');\n",
              "      buttonEl.style.display =\n",
              "        google.colab.kernel.accessAllowed ? 'block' : 'none';\n",
              "\n",
              "      async function convertToInteractive(key) {\n",
              "        const element = document.querySelector('#df-038b791a-ded9-49ce-ae54-4e5191d22180');\n",
              "        const dataTable =\n",
              "          await google.colab.kernel.invokeFunction('convertToInteractive',\n",
              "                                                    [key], {});\n",
              "        if (!dataTable) return;\n",
              "\n",
              "        const docLinkHtml = 'Like what you see? Visit the ' +\n",
              "          '<a target=\"_blank\" href=https://colab.research.google.com/notebooks/data_table.ipynb>data table notebook</a>'\n",
              "          + ' to learn more about interactive tables.';\n",
              "        element.innerHTML = '';\n",
              "        dataTable['output_type'] = 'display_data';\n",
              "        await google.colab.output.renderOutput(dataTable, element);\n",
              "        const docLink = document.createElement('div');\n",
              "        docLink.innerHTML = docLinkHtml;\n",
              "        element.appendChild(docLink);\n",
              "      }\n",
              "    </script>\n",
              "  </div>\n",
              "\n",
              "\n",
              "<div id=\"df-0e7781c4-440a-443a-b1a3-c898bcc82f51\">\n",
              "  <button class=\"colab-df-quickchart\" onclick=\"quickchart('df-0e7781c4-440a-443a-b1a3-c898bcc82f51')\"\n",
              "            title=\"Suggest charts\"\n",
              "            style=\"display:none;\">\n",
              "\n",
              "<svg xmlns=\"http://www.w3.org/2000/svg\" height=\"24px\"viewBox=\"0 0 24 24\"\n",
              "     width=\"24px\">\n",
              "    <g>\n",
              "        <path d=\"M19 3H5c-1.1 0-2 .9-2 2v14c0 1.1.9 2 2 2h14c1.1 0 2-.9 2-2V5c0-1.1-.9-2-2-2zM9 17H7v-7h2v7zm4 0h-2V7h2v10zm4 0h-2v-4h2v4z\"/>\n",
              "    </g>\n",
              "</svg>\n",
              "  </button>\n",
              "\n",
              "<style>\n",
              "  .colab-df-quickchart {\n",
              "      --bg-color: #E8F0FE;\n",
              "      --fill-color: #1967D2;\n",
              "      --hover-bg-color: #E2EBFA;\n",
              "      --hover-fill-color: #174EA6;\n",
              "      --disabled-fill-color: #AAA;\n",
              "      --disabled-bg-color: #DDD;\n",
              "  }\n",
              "\n",
              "  [theme=dark] .colab-df-quickchart {\n",
              "      --bg-color: #3B4455;\n",
              "      --fill-color: #D2E3FC;\n",
              "      --hover-bg-color: #434B5C;\n",
              "      --hover-fill-color: #FFFFFF;\n",
              "      --disabled-bg-color: #3B4455;\n",
              "      --disabled-fill-color: #666;\n",
              "  }\n",
              "\n",
              "  .colab-df-quickchart {\n",
              "    background-color: var(--bg-color);\n",
              "    border: none;\n",
              "    border-radius: 50%;\n",
              "    cursor: pointer;\n",
              "    display: none;\n",
              "    fill: var(--fill-color);\n",
              "    height: 32px;\n",
              "    padding: 0;\n",
              "    width: 32px;\n",
              "  }\n",
              "\n",
              "  .colab-df-quickchart:hover {\n",
              "    background-color: var(--hover-bg-color);\n",
              "    box-shadow: 0 1px 2px rgba(60, 64, 67, 0.3), 0 1px 3px 1px rgba(60, 64, 67, 0.15);\n",
              "    fill: var(--button-hover-fill-color);\n",
              "  }\n",
              "\n",
              "  .colab-df-quickchart-complete:disabled,\n",
              "  .colab-df-quickchart-complete:disabled:hover {\n",
              "    background-color: var(--disabled-bg-color);\n",
              "    fill: var(--disabled-fill-color);\n",
              "    box-shadow: none;\n",
              "  }\n",
              "\n",
              "  .colab-df-spinner {\n",
              "    border: 2px solid var(--fill-color);\n",
              "    border-color: transparent;\n",
              "    border-bottom-color: var(--fill-color);\n",
              "    animation:\n",
              "      spin 1s steps(1) infinite;\n",
              "  }\n",
              "\n",
              "  @keyframes spin {\n",
              "    0% {\n",
              "      border-color: transparent;\n",
              "      border-bottom-color: var(--fill-color);\n",
              "      border-left-color: var(--fill-color);\n",
              "    }\n",
              "    20% {\n",
              "      border-color: transparent;\n",
              "      border-left-color: var(--fill-color);\n",
              "      border-top-color: var(--fill-color);\n",
              "    }\n",
              "    30% {\n",
              "      border-color: transparent;\n",
              "      border-left-color: var(--fill-color);\n",
              "      border-top-color: var(--fill-color);\n",
              "      border-right-color: var(--fill-color);\n",
              "    }\n",
              "    40% {\n",
              "      border-color: transparent;\n",
              "      border-right-color: var(--fill-color);\n",
              "      border-top-color: var(--fill-color);\n",
              "    }\n",
              "    60% {\n",
              "      border-color: transparent;\n",
              "      border-right-color: var(--fill-color);\n",
              "    }\n",
              "    80% {\n",
              "      border-color: transparent;\n",
              "      border-right-color: var(--fill-color);\n",
              "      border-bottom-color: var(--fill-color);\n",
              "    }\n",
              "    90% {\n",
              "      border-color: transparent;\n",
              "      border-bottom-color: var(--fill-color);\n",
              "    }\n",
              "  }\n",
              "</style>\n",
              "\n",
              "  <script>\n",
              "    async function quickchart(key) {\n",
              "      const quickchartButtonEl =\n",
              "        document.querySelector('#' + key + ' button');\n",
              "      quickchartButtonEl.disabled = true;  // To prevent multiple clicks.\n",
              "      quickchartButtonEl.classList.add('colab-df-spinner');\n",
              "      try {\n",
              "        const charts = await google.colab.kernel.invokeFunction(\n",
              "            'suggestCharts', [key], {});\n",
              "      } catch (error) {\n",
              "        console.error('Error during call to suggestCharts:', error);\n",
              "      }\n",
              "      quickchartButtonEl.classList.remove('colab-df-spinner');\n",
              "      quickchartButtonEl.classList.add('colab-df-quickchart-complete');\n",
              "    }\n",
              "    (() => {\n",
              "      let quickchartButtonEl =\n",
              "        document.querySelector('#df-0e7781c4-440a-443a-b1a3-c898bcc82f51 button');\n",
              "      quickchartButtonEl.style.display =\n",
              "        google.colab.kernel.accessAllowed ? 'block' : 'none';\n",
              "    })();\n",
              "  </script>\n",
              "</div>\n",
              "    </div>\n",
              "  </div>\n"
            ],
            "application/vnd.google.colaboratory.intrinsic+json": {
              "type": "dataframe",
              "summary": "{\n  \"name\": \"gdpc1\",\n  \"rows\": 5,\n  \"fields\": [\n    {\n      \"column\": \"DATE\",\n      \"properties\": {\n        \"dtype\": \"date\",\n        \"min\": \"2022-10-01 00:00:00\",\n        \"max\": \"2023-10-01 00:00:00\",\n        \"num_unique_values\": 5,\n        \"samples\": [\n          \"2023-01-01 00:00:00\",\n          \"2023-10-01 00:00:00\",\n          \"2023-04-01 00:00:00\"\n        ],\n        \"semantic_type\": \"\",\n        \"description\": \"\"\n      }\n    },\n    {\n      \"column\": \"GDPC1\",\n      \"properties\": {\n        \"dtype\": \"number\",\n        \"std\": 281.55881077547554,\n        \"min\": 21989.981,\n        \"max\": 22679.255,\n        \"num_unique_values\": 5,\n        \"samples\": [\n          22112.329,\n          22679.255,\n          22225.35\n        ],\n        \"semantic_type\": \"\",\n        \"description\": \"\"\n      }\n    }\n  ]\n}"
            }
          },
          "metadata": {},
          "execution_count": 44
        }
      ]
    },
    {
      "cell_type": "code",
      "source": [
        "gdpc1['gdpc1_us_yoy'] = gdpc1.GDPC1 / gdpc1.GDPC1.shift(4) - 1\n",
        "gdpc1['gdpc1_us_yoy'] = round(gdpc1['gdpc1_us_yoy'] * 100, 1)\n",
        "\n",
        "#Calculating Average Growth 2023\n",
        "gdpc1_2023 = gdpc1.loc['2023']\n",
        "average_growth_2023 = gdpc1_2023['gdpc1_us_yoy'].mean()\n",
        "\n",
        "\n",
        "print(f\"The Average Yearly Growth for 2023 is {average_growth_2023}% \")\n"
      ],
      "metadata": {
        "colab": {
          "base_uri": "https://localhost:8080/"
        },
        "id": "YY3fIHITmVdq",
        "outputId": "b433311a-7357-414b-f964-53ff925d9135"
      },
      "execution_count": 45,
      "outputs": [
        {
          "output_type": "stream",
          "name": "stdout",
          "text": [
            "The Average Yearly Growth for 2023 is 2.525% \n"
          ]
        }
      ]
    },
    {
      "cell_type": "markdown",
      "source": [
        "## 2. Treasury Yield\n"
      ],
      "metadata": {
        "id": "S4ohYDNbYg7I"
      }
    },
    {
      "cell_type": "code",
      "source": [
        "# https://fred.stlouisfed.org/series/DGS2\n",
        "# https://fred.stlouisfed.org/series/DGS10\n",
        "\n",
        "start = '2000-01-01'\n",
        "\n",
        "dgs2 = pdr.DataReader(\"DGS2\", \"fred\", start=start)\n",
        "dgs10 = pdr.DataReader(\"DGS10\", \"fred\", start=start)"
      ],
      "metadata": {
        "id": "NIJs1_v2YmTx"
      },
      "execution_count": null,
      "outputs": []
    },
    {
      "cell_type": "code",
      "source": [
        "# Joining Data\n",
        "interest_rates = dgs10.join(dgs2, how='inner', lsuffix='_dgs10', rsuffix='_dgs2')\n",
        "\n",
        "# Calculating Difference\n",
        "interest_rates['diff'] = interest_rates['DGS10'] - interest_rates['DGS2']\n",
        "\n",
        "# Finding Minimum\n",
        "min_diff_since_2000 = interest_rates['diff'].min()\n",
        "\n",
        "# Round to one Decimal\n",
        "min_diff_since_2000 = round(min_diff_since_2000, 1)\n",
        "\n",
        "print(\"Minimum value of (dgs10 - dgs2) since 2000:\", min_diff_since_2000)"
      ],
      "metadata": {
        "colab": {
          "base_uri": "https://localhost:8080/"
        },
        "id": "-Nbyg9Xd_IgL",
        "outputId": "55889bd6-05da-4ce6-f9c3-076dba24c95b"
      },
      "execution_count": null,
      "outputs": [
        {
          "output_type": "stream",
          "name": "stdout",
          "text": [
            "Minimum value of (dgs10 - dgs2) since 2000: -1.1\n"
          ]
        }
      ]
    },
    {
      "cell_type": "code",
      "source": [
        "# An \"inverted yield curve\" occurs when long-term bond yields are lower than short-term bond yields.\n",
        "# Normally, it's the opposite, as investors expect higher returns for long-term investments.\n",
        "# An inverted yield curve is often considered a precursor to economic downturns,\n",
        "# as it may signal a pessimistic economic future.\n",
        "\n",
        "# For the market and investors, an inverted yield curve may indicate that the economy is heading towards\n",
        "# or already in a recession. This can lead to a slowdown in investments, decreased consumer demand,\n",
        "# and ultimately, a decline in stock markets. Investors may adjust their portfolios defensively\n",
        "# to prepare for a potential recession, leading to selling pressure on riskier assets.\n",
        "\n",
        "# Do you see the same thing in your country/market of interest?\n",
        "# In the context of Bitcoin, while there's no direct equivalent to a yield curve,\n",
        "# certain market indicators or sentiment metrics may serve a similar purpose in assessing market sentiment\n",
        "# and potential economic risks. These indicators could include Bitcoin's volatility,\n",
        "# market sentiment indices, or macroeconomic factors affecting investor behavior.\n",
        "\n",
        "# Do you think it can be a good predictive feature for the models?\n",
        "# An inverted yield curve can be a useful predictive tool as it has historically been associated with\n",
        "# impending recessions. Many economists and analysts consider it an early warning signal for economic downturns.\n",
        "# Therefore, incorporating the yield curve into models for economic and market forecasting\n",
        "# can help identify risks and respond appropriately.\n",
        "# Incorporating market indicators related to investor sentiment and macroeconomic factors,\n",
        "# such as an inverted yield curve in traditional markets, into predictive models for Bitcoin\n",
        "# could provide valuable insights into potential market movements.\n",
        "# However, given Bitcoin's unique characteristics and market dynamics,\n",
        "# it's essential to consider a diverse range of factors and indicators\n",
        "# to develop robust predictive models for Bitcoin price movements.\n"
      ],
      "metadata": {
        "id": "OEY0fXMLH3pp"
      },
      "execution_count": null,
      "outputs": []
    },
    {
      "cell_type": "markdown",
      "source": [
        "## 3. Index\n"
      ],
      "metadata": {
        "id": "Ur9Cllsdsb2Y"
      }
    },
    {
      "cell_type": "code",
      "source": [
        "# S&P 500 (^GSPC, https://finance.yahoo.com/quote/%5EGSPC/) and IPC Mexico (^MXX, https://finance.yahoo.com/quote/%5EMXX/)\n",
        "\n",
        "# Start- and Enddate\n",
        "start_date = '2019-04-09'\n",
        "end_date = '2024-04-09'\n",
        "\n",
        "# Loading Data S&P 500\n",
        "spx_index = yf.download(tickers=\"^GSPC\", start=start_date, end=end_date, progress=False)['Adj Close']\n",
        "\n",
        "# Loading Data IPC Mexico\n",
        "ipc_index = yf.download(tickers=\"^MXX\", start=start_date, end=end_date, progress=False)['Adj Close']\n",
        "\n",
        "# Calculation Relation between Endprice and Startprice\n",
        "spx_growth_ratio = spx_index[-1] / spx_index[0]\n",
        "ipc_growth_ratio = ipc_index[-1] / ipc_index[0]\n",
        "\n",
        "# Converting into Percentage\n",
        "spx_growth_percentage = (spx_growth_ratio - 1) * 100\n",
        "ipc_growth_percentage = (ipc_growth_ratio - 1) * 100\n",
        "\n",
        "# Comparing\n",
        "if spx_growth_percentage > ipc_growth_percentage:\n",
        "    better_index = 'S&P 500'\n",
        "    growth_percentage = round(spx_growth_percentage)\n",
        "else:\n",
        "    better_index = 'IPC Mexico'\n",
        "    growth_percentage = round(ipc_growth_percentage)\n",
        "\n",
        "print(f\"The better performing index recently is {better_index} with a growth of {growth_percentage}% over the last five years.\")\n",
        "\n"
      ],
      "metadata": {
        "colab": {
          "base_uri": "https://localhost:8080/"
        },
        "id": "IIK-6smEjeer",
        "outputId": "78ef7b14-3837-4b2a-fc5e-b1ca1a18e737"
      },
      "execution_count": null,
      "outputs": [
        {
          "output_type": "stream",
          "name": "stdout",
          "text": [
            "The better performing index recently is S&P 500 with a growth of 81% over the last five years.\n"
          ]
        }
      ]
    },
    {
      "cell_type": "markdown",
      "source": [
        "## 4. Stocks OHLCV"
      ],
      "metadata": {
        "id": "tGBFWT0fAabM"
      }
    },
    {
      "cell_type": "code",
      "source": [
        "# (https://companiesmarketcap.com/most-profitable-companies/): 2222.SR,BRK-B, AAPL, MSFT, GOOG, JPM\n",
        "\n",
        "tickers = ['2222.SR', 'BRK-B', 'AAPL', 'MSFT', 'GOOG', 'JPM']\n",
        "\n",
        "# Loading Data\n",
        "data = yf.download(tickers, start=\"2023-01-01\", end=\"2023-12-31\", progress=False)\n",
        "\n",
        "# Calculating max und min Adj. Close Price for 2023\n",
        "max_prices = data['Adj Close'].max()\n",
        "min_prices = data['Adj Close'].min()\n",
        "\n",
        "# Calculation Relation from (max - min) / max for every Stock\n",
        "range_ratios = ((max_prices - min_prices) / max_prices).round(2)\n",
        "\n",
        "# Finding Stock with biggest Ratio\n",
        "max_range_ratio_stock = range_ratios.idxmax()\n",
        "max_range_ratio_value = range_ratios.max()\n",
        "\n",
        "print(f\"The stock with the largest 52-weeks range ratio in 2023 is {max_range_ratio_stock} with a ratio of {max_range_ratio_value}\")"
      ],
      "metadata": {
        "colab": {
          "base_uri": "https://localhost:8080/"
        },
        "id": "jaKiqmzff3QZ",
        "outputId": "1f3635fe-0dca-480f-de50-8b33a8794399"
      },
      "execution_count": null,
      "outputs": [
        {
          "output_type": "stream",
          "name": "stdout",
          "text": [
            "The stock with the largest 52-weeks range ratio in 2023 is MSFT with a ratio of 0.42\n"
          ]
        }
      ]
    },
    {
      "cell_type": "code",
      "source": [
        "# Plot Range Relation for every Stock\n",
        "plt.figure(figsize=(10, 6))\n",
        "range_ratios.plot(kind='bar', color='skyblue')\n",
        "plt.title('52-Weeks Range Ratios for Selected Stocks in 2023')\n",
        "plt.xlabel('Stock Ticker')\n",
        "plt.ylabel('Range Ratio')\n",
        "plt.xticks(rotation=45)\n",
        "plt.grid(axis='y', linestyle='--', alpha=0.7)\n",
        "plt.tight_layout()\n",
        "plt.show()"
      ],
      "metadata": {
        "colab": {
          "base_uri": "https://localhost:8080/",
          "height": 607
        },
        "id": "E0BHsNvGgFef",
        "outputId": "a4f92f7f-c2cd-49c2-d720-cf302c3910e4"
      },
      "execution_count": null,
      "outputs": [
        {
          "output_type": "display_data",
          "data": {
            "text/plain": [
              "<Figure size 1000x600 with 1 Axes>"
            ],
            "image/png": "[encoded data removed]"
          },
          "metadata": {}
        }
      ]
    },
    {
      "cell_type": "markdown",
      "source": [
        "## 5. Stock Dividend Yield"
      ],
      "metadata": {
        "id": "kLXxhy_7F7C5"
      }
    },
    {
      "cell_type": "code",
      "source": [
        "# Load dividend data for 2023\n",
        "dividends_data = yf.download(tickers, start=\"2023-01-01\", end=\"2023-12-31\", progress=False, actions=True)\n",
        "\n",
        "# Sum up dividends paid in 2023 per company\n",
        "total_dividends = dividends_data['Dividends'].sum()\n",
        "\n",
        "# Get the closing prices (Adj.Close) at the last trading day of the year\n",
        "last_trading_day_prices = dividends_data.iloc[-1]['Adj Close']\n",
        "\n",
        "# Calculate dividend yield for each company\n",
        "dividend_yields = (total_dividends / last_trading_day_prices) * 100\n",
        "\n",
        "# Find the maximum dividend yield\n",
        "max_dividend_yield = dividend_yields.max()\n",
        "\n",
        "# Round to 1 digit after the decimal point\n",
        "max_dividend_yield_rounded = round(max_dividend_yield, 1)\n",
        "\n",
        "print(f\"The largest dividend yield for the same set of stocks in 2023 is {max_dividend_yield_rounded}%\")"
      ],
      "metadata": {
        "colab": {
          "base_uri": "https://localhost:8080/"
        },
        "id": "ej-cMzvtGEz8",
        "outputId": "321ac0c8-eece-4dfa-8d32-d02a150fc01c"
      },
      "execution_count": null,
      "outputs": [
        {
          "output_type": "stream",
          "name": "stdout",
          "text": [
            "The largest dividend yield for the same set of stocks in 2023 is 2.4%\n"
          ]
        }
      ]
    },
    {
      "cell_type": "code",
      "source": [
        "# Retrieving and analyzing dividend data can be crucial for research purposes in financial analysis and modeling.\n",
        "# Here are some reasons why this might be important:\n",
        "\n",
        "# 1. Dividend Yield Evaluation: Dividend yield is a key metric for investors to assess the return on their investments in dividend-paying stocks.\n",
        "# By analyzing dividend yield, investors can evaluate the attractiveness of a stock compared to other investment options.\n",
        "\n",
        "# 2. Dividend Yield and Growth: Understanding a company's dividend yield and dividend growth can provide valuable insights into its financial stability, profitability, and growth prospects.\n",
        "# Companies with a long history of continuous dividend payments and regular dividend growth could be attractive investment targets.\n",
        "\n",
        "# 3. Dividend Policy Analysis: Analyzing a company's dividend policy can provide insights into its corporate strategy, financial health, and long-term growth prospects.\n",
        "# Companies may follow different dividend policies, such as stable dividends, dividend increases, or variable dividend payments,\n"
      ],
      "metadata": {
        "id": "OBX5G0aIM1qa"
      },
      "execution_count": null,
      "outputs": []
    },
    {
      "cell_type": "markdown",
      "source": [
        "## 6. Investigate New Metrics"
      ],
      "metadata": {
        "id": "69xWHOhsCKZS"
      }
    },
    {
      "cell_type": "code",
      "source": [
        "# Bitcoin\n",
        "symbol = 'BTC-USD'\n",
        "\n",
        "# Loading Data\n",
        "data = yf.download(symbol, start='2023-01-01', end='2023-12-31', progress=False)\n",
        "\n",
        "# Calculating Volatility\n",
        "volatility = data['Close'].pct_change().std() * (252 ** 0.5)\n",
        "\n",
        "print(f\"Volatility for {symbol}: {volatility}\")\n",
        "\n",
        "# Trading Volume\n",
        "volume = data['Volume']\n",
        "\n",
        "print(f\"Trading volume for {symbol}:\")\n",
        "print(volume)\n",
        "\n",
        "# Monthly Trading Volume\n",
        "monthly_volume = data['Volume'].resample('M').sum()\n",
        "\n",
        "print(f\"Monthly trading volume for {symbol}:\")\n",
        "print(monthly_volume)"
      ],
      "metadata": {
        "colab": {
          "base_uri": "https://localhost:8080/"
        },
        "id": "b0I4hIffNdbj",
        "outputId": "b3037157-eafa-4ec7-aa48-8b9142a9f32a"
      },
      "execution_count": null,
      "outputs": [
        {
          "output_type": "stream",
          "name": "stdout",
          "text": [
            "Volatility for BTC-USD: 0.3646526183818212\n",
            "Trading volume for BTC-USD:\n",
            "Date\n",
            "2023-01-01     9244361700\n",
            "2023-01-02    12097775227\n",
            "2023-01-03    13903079207\n",
            "2023-01-04    18421743322\n",
            "2023-01-05    13692758566\n",
            "                 ...     \n",
            "2023-12-26    30026850982\n",
            "2023-12-27    25260941032\n",
            "2023-12-28    22992093014\n",
            "2023-12-29    26000021055\n",
            "2023-12-30    16013925945\n",
            "Name: Volume, Length: 364, dtype: int64\n",
            "Monthly trading volume for BTC-USD:\n",
            "Date\n",
            "2023-01-31    690994018045\n",
            "2023-02-28    723968574897\n",
            "2023-03-31    883299703608\n",
            "2023-04-30    511540319004\n",
            "2023-05-31    443473015479\n",
            "2023-06-30    481734214225\n",
            "2023-07-31    382224489090\n",
            "2023-08-31    437724169499\n",
            "2023-09-30    337637313742\n",
            "2023-10-31    476425634860\n",
            "2023-11-30    570863267380\n",
            "2023-12-31    705307411670\n",
            "Freq: M, Name: Volume, dtype: int64\n"
          ]
        }
      ]
    },
    {
      "cell_type": "code",
      "source": [
        "# Correlation Bitcoin and SP500\n",
        "btc_symbol = 'BTC-USD'\n",
        "sp500_symbol = '^GSPC'\n",
        "\n",
        "# Loading Data\n",
        "btc_data = yf.download(btc_symbol, start='2020-01-01', end='2023-12-31', progress=False)['Adj Close']\n",
        "sp500_data = yf.download(sp500_symbol, start='2020-01-01', end='2023-12-31', progress=False)['Adj Close']\n",
        "\n",
        "# Creating Data Frame\n",
        "data = pd.concat([btc_data, sp500_data], axis=1)\n",
        "data.columns = ['BTC', 'S&P 500']\n",
        "\n",
        "# Calculating Correlation\n",
        "correlation = data.corr().iloc[0, 1]\n",
        "\n",
        "print(f\"Correlation between Bitcoin and S&P 500 Index: {correlation}\")"
      ],
      "metadata": {
        "colab": {
          "base_uri": "https://localhost:8080/"
        },
        "id": "JvQ3x_bWTtqT",
        "outputId": "e8c7371b-6006-49a3-e62a-15b214dab7b0"
      },
      "execution_count": null,
      "outputs": [
        {
          "output_type": "stream",
          "name": "stdout",
          "text": [
            "Correlation between Bitcoin and S&P 500 Index: 0.7689644290290191\n"
          ]
        }
      ]
    },
    {
      "cell_type": "code",
      "source": [
        "import matplotlib.pyplot as plt\n",
        "from scipy.stats import pearsonr\n",
        "\n",
        "# Pearson Correlation\n",
        "btc_symbol = 'BTC-USD'\n",
        "sp500_symbol = '^GSPC'\n",
        "\n",
        "# Loading Data\n",
        "btc_data = yf.download(btc_symbol, start='2023-01-01', end='2023-12-31', progress= False)['Adj Close']\n",
        "sp500_data = yf.download(sp500_symbol, start='2023-01-01', end='2023-12-31', progress = False)['Adj Close']\n",
        "\n",
        "# Synchronising Data for same Length\n",
        "btc_data = btc_data.loc[sp500_data.index]\n",
        "sp500_data = sp500_data.loc[btc_data.index]\n",
        "\n",
        "# Calculating Pearson-Korrelation\n",
        "corr, _ = pearsonr(btc_data, sp500_data)\n",
        "\n",
        "# Plot\n",
        "plt.figure(figsize=(10, 6))\n",
        "plt.scatter(btc_data, sp500_data, color='blue', label=f'Korrelation: {corr:.2f}')\n",
        "plt.title('Bitcoin vs. S&P 500 Index (2023)')\n",
        "plt.xlabel('Bitcoin Preis')\n",
        "plt.ylabel('S&P 500 Index Preis')\n",
        "plt.legend()\n",
        "\n",
        "plt.show()\n"
      ],
      "metadata": {
        "colab": {
          "base_uri": "https://localhost:8080/",
          "height": 564
        },
        "id": "DdZC7ovwV5Ei",
        "outputId": "3d1f5d14-75da-4b9b-c468-3d3c01a713af"
      },
      "execution_count": null,
      "outputs": [
        {
          "output_type": "display_data",
          "data": {
            "text/plain": [
              "<Figure size 1000x600 with 1 Axes>"
            ],
            "image/png": "[encoded data removed]"
          },
          "metadata": {}
        }
      ]
    },
    {
      "cell_type": "code",
      "source": [
        "# Plotting for Year 2023\n",
        "btc_symbol = 'BTC-USD'\n",
        "sp500_symbol = '^GSPC'\n",
        "\n",
        "# Data\n",
        "btc_data = yf.download(btc_symbol, start='2023-01-01', end='2023-12-31', progress=False)['Adj Close']\n",
        "sp500_data = yf.download(sp500_symbol, start='2023-01-01', end='2023-12-31', progress=False)['Adj Close']\n",
        "\n",
        "# Plot\n",
        "plt.figure(figsize=(10, 6))\n",
        "plt.plot(btc_data, label='Bitcoin', color='orange')\n",
        "plt.plot(sp500_data, label='S&P 500', color='blue')\n",
        "\n",
        "# Heading\n",
        "plt.title('Bitcoin vs. S&P 500 Index (2023)')\n",
        "plt.xlabel('Datum')\n",
        "plt.ylabel('Preis')\n",
        "plt.legend().remove()\n"
      ],
      "metadata": {
        "colab": {
          "base_uri": "https://localhost:8080/",
          "height": 564
        },
        "id": "E6cz3tfRPb91",
        "outputId": "2c73e6e8-7be6-47a1-f705-dad08c3a4e15"
      },
      "execution_count": null,
      "outputs": [
        {
          "output_type": "display_data",
          "data": {
            "text/plain": [
              "<Figure size 1000x600 with 1 Axes>"
            ],
            "image/png": "[encoded data removed]"
          },
          "metadata": {}
        }
      ]
    },
    {
      "cell_type": "markdown",
      "source": [
        "## 7. Time-driven strategy description around earnings releases"
      ],
      "metadata": {
        "id": "s1itZwq5C1Dr"
      }
    },
    {
      "cell_type": "code",
      "source": [
        "# Time Driven Strategy for Bitcoin\n",
        "\n",
        "# 1: Data Collection\n",
        "# Gather information about future events or developments related to Bitcoin from sources like CoinMarketCap or CoinGecko.\n",
        "\n",
        "# Step 2: Comparison with Past Data\n",
        "# Compare upcoming events with historical data to identify patterns and trends in Bitcoin price and trading volume reactions.\n",
        "\n",
        "# Step 3: Criteria Establishment\n",
        "# Define criteria such as the potential impact of the event on Bitcoin price, its significance to the cryptocurrency industry, and expected market reactions.\n",
        "\n",
        "# Step 4: Sentiment Analysis\n",
        "# Conduct sentiment analysis to gauge community sentiment, news sentiment, and social media discussions surrounding each event.\n",
        "\n",
        "# Step 5: Risk Assessment\n",
        "# Evaluate the risk associated with each event based on factors like Bitcoin price volatility, market liquidity, and potential industry-wide impacts.\n",
        "\n",
        "# Based on these steps, select Bitcoin-related events that are relevant for further analysis, trading strategies, or investment decisions.\n"
      ],
      "metadata": {
        "id": "ZFUHgqNcDv7m"
      },
      "execution_count": null,
      "outputs": []
    },
    {
      "cell_type": "code",
      "source": [
        "# Analytical Strategy for Stocks\n",
        "\n",
        "# Data Collection: Utilize the Yahoo Finance Earnings Calendar to gather earnings dates for the entire month of April, focusing on upcoming weeks.\n",
        "# Comparison with Previous Data: Compare the upcoming earnings data with previously closed earnings to identify patterns and trends. Pay particular attention to deviations between expected and actual earnings.\n",
        "# Criteria Establishment: Based on various criteria such as company size, industry, historical revenue growth, volatility, and other financial metrics, establish filters to select a subset of companies of interest.\n",
        "# Sentiment Analysis: Evaluate the sentiment surrounding each company and its upcoming earnings using sentiment analysis techniques. This could involve analyzing news articles, social media, analyst reports, and other relevant sources.\n",
        "# Risk Assessment: Assess the risk for each company by considering factors such as historical price volatility, market capitalization, beta value, and other financial metrics.\n",
        "\n",
        "# Based on these steps, I would select a subset of companies that are relevant for further analysis or trading strategies. I would ensure that my selection aligns with the specific goals and criteria of my analysis or strategy.\n"
      ],
      "metadata": {
        "id": "_qX1v1L-DxOt"
      },
      "execution_count": null,
      "outputs": []
    }
  ]
}